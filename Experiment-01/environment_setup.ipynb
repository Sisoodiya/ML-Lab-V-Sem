{
 "cells": [
  {
   "cell_type": "markdown",
   "metadata": {},
   "source": [
    "# Experiment 01: Environment Setup\n",
    "\n",
    "## Objective\n",
    "Installation and setup of Python libraries and tools for Machine Learning experiments.\n",
    "\n",
    "## Instructions\n",
    "1. Run each cell in sequence\n",
    "2. Verify that all libraries import successfully\n",
    "3. Complete the setup verification tasks"
   ]
  },
  {
   "cell_type": "markdown",
   "metadata": {},
   "source": [
    "## 1. Import Required Libraries"
   ]
  },
  {
   "cell_type": "code",
   "execution_count": null,
   "metadata": {},
   "outputs": [],
   "source": [
    "# Import essential libraries for Machine Learning\n",
    "import numpy as np\n",
    "import pandas as pd\n",
    "import matplotlib.pyplot as plt\n",
    "import seaborn as sns\n",
    "from sklearn import __version__ as sklearn_version\n",
    "import tensorflow as tf\n",
    "\n",
    "print(\"Library versions:\")\n",
    "print(f\"NumPy: {np.__version__}\")\n",
    "print(f\"Pandas: {pd.__version__}\")\n",
    "print(f\"Scikit-learn: {sklearn_version}\")\n",
    "print(f\"TensorFlow: {tf.__version__}\")\n",
    "print(\"\\nAll libraries imported successfully! ✅\")"
   ]
  },
  {
   "cell_type": "markdown",
   "metadata": {},
   "source": [
    "## 2. Verify Setup"
   ]
  },
  {
   "cell_type": "code",
   "execution_count": null,
   "metadata": {},
   "outputs": [],
   "source": [
    "# TODO: Add your setup verification code here\n",
    "# Example: Create sample data and basic visualizations\n",
    "\n",
    "# Sample data creation\n",
    "sample_data = np.random.randn(100, 2)\n",
    "df = pd.DataFrame(sample_data, columns=['Feature1', 'Feature2'])\n",
    "\n",
    "# Basic visualization\n",
    "plt.figure(figsize=(8, 6))\n",
    "plt.scatter(df['Feature1'], df['Feature2'])\n",
    "plt.title('Sample Data Visualization')\n",
    "plt.xlabel('Feature 1')\n",
    "plt.ylabel('Feature 2')\n",
    "plt.show()\n",
    "\n",
    "print(\"Environment setup completed successfully! 🎉\")"
   ]
  }
 ],
 "metadata": {
  "kernelspec": {
   "display_name": "Python 3",
   "language": "python",
   "name": "python3"
  },
  "language_info": {
   "codemirror_mode": {
    "name": "ipython",
    "version": 3
   },
   "file_extension": ".py",
   "mimetype": "text/x-python",
   "name": "python",
   "nbconvert_exporter": "python",
   "pygments_lexer": "ipython3",
   "version": "3.8.5"
  }
 },
 "nbformat": 4,
 "nbformat_minor": 4
}